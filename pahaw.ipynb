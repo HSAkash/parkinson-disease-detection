{
 "cells": [
  {
   "cell_type": "markdown",
   "metadata": {},
   "source": [
    "## Import dependencies"
   ]
  },
  {
   "cell_type": "code",
   "execution_count": 1,
   "metadata": {},
   "outputs": [],
   "source": [
    "import pandas as pd\n",
    "import numpy as np\n",
    "import matplotlib.pyplot as plt\n",
    "\n",
    "from sklearn.model_selection import train_test_split\n",
    "\n",
    "from sklearn.preprocessing import StandardScaler\n",
    "\n",
    "from sklearn.utils import shuffle\n",
    "\n",
    "from sklearn.linear_model import LogisticRegression\n",
    "\n",
    "from sklearn import metrics"
   ]
  },
  {
   "cell_type": "markdown",
   "metadata": {},
   "source": [
    "## read dataset from csv file"
   ]
  },
  {
   "cell_type": "code",
   "execution_count": 2,
   "metadata": {},
   "outputs": [
    {
     "data": {
      "text/html": [
       "<div>\n",
       "<style scoped>\n",
       "    .dataframe tbody tr th:only-of-type {\n",
       "        vertical-align: middle;\n",
       "    }\n",
       "\n",
       "    .dataframe tbody tr th {\n",
       "        vertical-align: top;\n",
       "    }\n",
       "\n",
       "    .dataframe thead th {\n",
       "        text-align: right;\n",
       "    }\n",
       "</style>\n",
       "<table border=\"1\" class=\"dataframe\">\n",
       "  <thead>\n",
       "    <tr style=\"text-align: right;\">\n",
       "      <th></th>\n",
       "      <th>id</th>\n",
       "      <th>task</th>\n",
       "      <th>Nationality</th>\n",
       "      <th>Sex</th>\n",
       "      <th>Disease</th>\n",
       "      <th>PD status</th>\n",
       "      <th>Age</th>\n",
       "      <th>Dominant hand</th>\n",
       "      <th>LED</th>\n",
       "      <th>UPDRS V</th>\n",
       "      <th>...</th>\n",
       "      <th>median_altitude_1st_derivative</th>\n",
       "      <th>median_altitude_2nd_derivative</th>\n",
       "      <th>median_azimuth_1st_derivative</th>\n",
       "      <th>median_azimuth_2nd_derivative</th>\n",
       "      <th>median_angle_in_stroke_10</th>\n",
       "      <th>median_angle_in_stroke_30</th>\n",
       "      <th>median_angle_in_stroke_50</th>\n",
       "      <th>median_angle_in_stroke_100</th>\n",
       "      <th>median_angle_in_stroke_300</th>\n",
       "      <th>median_angle_in_stroke_500</th>\n",
       "    </tr>\n",
       "  </thead>\n",
       "  <tbody>\n",
       "    <tr>\n",
       "      <th>0</th>\n",
       "      <td>1</td>\n",
       "      <td>1</td>\n",
       "      <td>Czech</td>\n",
       "      <td>F</td>\n",
       "      <td>PD</td>\n",
       "      <td>ON</td>\n",
       "      <td>68</td>\n",
       "      <td>R</td>\n",
       "      <td>1115.0</td>\n",
       "      <td>2.0</td>\n",
       "      <td>...</td>\n",
       "      <td>0.0</td>\n",
       "      <td>0.0</td>\n",
       "      <td>0.0</td>\n",
       "      <td>0.0</td>\n",
       "      <td>180.000000</td>\n",
       "      <td>177.300709</td>\n",
       "      <td>176.657317</td>\n",
       "      <td>173.375469</td>\n",
       "      <td>160.623832</td>\n",
       "      <td>147.742578</td>\n",
       "    </tr>\n",
       "    <tr>\n",
       "      <th>1</th>\n",
       "      <td>1</td>\n",
       "      <td>2</td>\n",
       "      <td>Czech</td>\n",
       "      <td>F</td>\n",
       "      <td>PD</td>\n",
       "      <td>ON</td>\n",
       "      <td>68</td>\n",
       "      <td>R</td>\n",
       "      <td>1115.0</td>\n",
       "      <td>2.0</td>\n",
       "      <td>...</td>\n",
       "      <td>0.0</td>\n",
       "      <td>0.0</td>\n",
       "      <td>0.0</td>\n",
       "      <td>0.0</td>\n",
       "      <td>180.000000</td>\n",
       "      <td>171.202589</td>\n",
       "      <td>165.793234</td>\n",
       "      <td>145.245217</td>\n",
       "      <td>56.985293</td>\n",
       "      <td>38.082702</td>\n",
       "    </tr>\n",
       "    <tr>\n",
       "      <th>2</th>\n",
       "      <td>1</td>\n",
       "      <td>3</td>\n",
       "      <td>Czech</td>\n",
       "      <td>F</td>\n",
       "      <td>PD</td>\n",
       "      <td>ON</td>\n",
       "      <td>68</td>\n",
       "      <td>R</td>\n",
       "      <td>1115.0</td>\n",
       "      <td>2.0</td>\n",
       "      <td>...</td>\n",
       "      <td>0.0</td>\n",
       "      <td>0.0</td>\n",
       "      <td>0.0</td>\n",
       "      <td>0.0</td>\n",
       "      <td>173.659808</td>\n",
       "      <td>160.157418</td>\n",
       "      <td>142.878712</td>\n",
       "      <td>98.887094</td>\n",
       "      <td>103.953251</td>\n",
       "      <td>88.136389</td>\n",
       "    </tr>\n",
       "    <tr>\n",
       "      <th>3</th>\n",
       "      <td>1</td>\n",
       "      <td>4</td>\n",
       "      <td>Czech</td>\n",
       "      <td>F</td>\n",
       "      <td>PD</td>\n",
       "      <td>ON</td>\n",
       "      <td>68</td>\n",
       "      <td>R</td>\n",
       "      <td>1115.0</td>\n",
       "      <td>2.0</td>\n",
       "      <td>...</td>\n",
       "      <td>0.0</td>\n",
       "      <td>0.0</td>\n",
       "      <td>0.0</td>\n",
       "      <td>0.0</td>\n",
       "      <td>173.659808</td>\n",
       "      <td>158.334041</td>\n",
       "      <td>135.951957</td>\n",
       "      <td>87.263973</td>\n",
       "      <td>62.087051</td>\n",
       "      <td>53.385985</td>\n",
       "    </tr>\n",
       "    <tr>\n",
       "      <th>4</th>\n",
       "      <td>1</td>\n",
       "      <td>5</td>\n",
       "      <td>Czech</td>\n",
       "      <td>F</td>\n",
       "      <td>PD</td>\n",
       "      <td>ON</td>\n",
       "      <td>68</td>\n",
       "      <td>R</td>\n",
       "      <td>1115.0</td>\n",
       "      <td>2.0</td>\n",
       "      <td>...</td>\n",
       "      <td>0.0</td>\n",
       "      <td>0.0</td>\n",
       "      <td>0.0</td>\n",
       "      <td>0.0</td>\n",
       "      <td>171.869898</td>\n",
       "      <td>148.844373</td>\n",
       "      <td>117.445102</td>\n",
       "      <td>73.501597</td>\n",
       "      <td>80.597103</td>\n",
       "      <td>69.881913</td>\n",
       "    </tr>\n",
       "  </tbody>\n",
       "</table>\n",
       "<p>5 rows × 127 columns</p>\n",
       "</div>"
      ],
      "text/plain": [
       "   id  task Nationality Sex Disease PD status  Age Dominant hand     LED  \\\n",
       "0   1     1       Czech   F      PD        ON   68             R  1115.0   \n",
       "1   1     2       Czech   F      PD        ON   68             R  1115.0   \n",
       "2   1     3       Czech   F      PD        ON   68             R  1115.0   \n",
       "3   1     4       Czech   F      PD        ON   68             R  1115.0   \n",
       "4   1     5       Czech   F      PD        ON   68             R  1115.0   \n",
       "\n",
       "   UPDRS V  ...  median_altitude_1st_derivative  \\\n",
       "0      2.0  ...                             0.0   \n",
       "1      2.0  ...                             0.0   \n",
       "2      2.0  ...                             0.0   \n",
       "3      2.0  ...                             0.0   \n",
       "4      2.0  ...                             0.0   \n",
       "\n",
       "   median_altitude_2nd_derivative  median_azimuth_1st_derivative  \\\n",
       "0                             0.0                            0.0   \n",
       "1                             0.0                            0.0   \n",
       "2                             0.0                            0.0   \n",
       "3                             0.0                            0.0   \n",
       "4                             0.0                            0.0   \n",
       "\n",
       "   median_azimuth_2nd_derivative  median_angle_in_stroke_10  \\\n",
       "0                            0.0                 180.000000   \n",
       "1                            0.0                 180.000000   \n",
       "2                            0.0                 173.659808   \n",
       "3                            0.0                 173.659808   \n",
       "4                            0.0                 171.869898   \n",
       "\n",
       "   median_angle_in_stroke_30  median_angle_in_stroke_50  \\\n",
       "0                 177.300709                 176.657317   \n",
       "1                 171.202589                 165.793234   \n",
       "2                 160.157418                 142.878712   \n",
       "3                 158.334041                 135.951957   \n",
       "4                 148.844373                 117.445102   \n",
       "\n",
       "   median_angle_in_stroke_100  median_angle_in_stroke_300  \\\n",
       "0                  173.375469                  160.623832   \n",
       "1                  145.245217                   56.985293   \n",
       "2                   98.887094                  103.953251   \n",
       "3                   87.263973                   62.087051   \n",
       "4                   73.501597                   80.597103   \n",
       "\n",
       "   median_angle_in_stroke_500  \n",
       "0                  147.742578  \n",
       "1                   38.082702  \n",
       "2                   88.136389  \n",
       "3                   53.385985  \n",
       "4                   69.881913  \n",
       "\n",
       "[5 rows x 127 columns]"
      ]
     },
     "execution_count": 2,
     "metadata": {},
     "output_type": "execute_result"
    }
   ],
   "source": [
    "df= pd.read_csv('dataset/dataset.csv')\n",
    "df.head()"
   ]
  },
  {
   "cell_type": "markdown",
   "metadata": {},
   "source": [
    "## String data to categorical data"
   ]
  },
  {
   "cell_type": "code",
   "execution_count": 3,
   "metadata": {},
   "outputs": [],
   "source": [
    "df['Sex'] = pd.Series(df['Sex']).astype('category').cat.codes\n",
    "df['Nationality'] = pd.Series(df['Nationality']).astype('category').cat.codes\n",
    "df['Disease'] = pd.Series(df['Disease']).astype('category').cat.codes\n",
    "df['Dominant hand'] = pd.Series(df['Dominant hand']).astype('category').cat.codes"
   ]
  },
  {
   "cell_type": "code",
   "execution_count": 4,
   "metadata": {},
   "outputs": [
    {
     "data": {
      "text/plain": [
       "Index(['id', 'task', 'Nationality', 'Sex', 'Disease', 'PD status', 'Age',\n",
       "       'Dominant hand', 'LED', 'UPDRS V',\n",
       "       ...\n",
       "       'median_altitude_1st_derivative', 'median_altitude_2nd_derivative',\n",
       "       'median_azimuth_1st_derivative', 'median_azimuth_2nd_derivative',\n",
       "       'median_angle_in_stroke_10', 'median_angle_in_stroke_30',\n",
       "       'median_angle_in_stroke_50', 'median_angle_in_stroke_100',\n",
       "       'median_angle_in_stroke_300', 'median_angle_in_stroke_500'],\n",
       "      dtype='object', length=127)"
      ]
     },
     "execution_count": 4,
     "metadata": {},
     "output_type": "execute_result"
    }
   ],
   "source": [
    "df.columns"
   ]
  },
  {
   "cell_type": "markdown",
   "metadata": {},
   "source": [
    "## Drop ot id, PD status UPDRS V columns"
   ]
  },
  {
   "cell_type": "code",
   "execution_count": 5,
   "metadata": {},
   "outputs": [],
   "source": [
    "df.drop(['id', 'PD status', 'UPDRS V'],inplace=True, axis=1)"
   ]
  },
  {
   "cell_type": "markdown",
   "metadata": {},
   "source": [
    "## Get y which is Disease column and X which is without disease column"
   ]
  },
  {
   "cell_type": "code",
   "execution_count": 6,
   "metadata": {},
   "outputs": [],
   "source": [
    "y = df['Disease'].values.astype(np.int8)\n",
    "X = df.drop(['Disease'], axis=1).values.astype(np.float32)"
   ]
  },
  {
   "cell_type": "markdown",
   "metadata": {},
   "source": [
    "## Nan value replaced with 0"
   ]
  },
  {
   "cell_type": "code",
   "execution_count": 7,
   "metadata": {},
   "outputs": [],
   "source": [
    "# find the columns with NaN\n",
    "nan_cols = [i for i in range(X.shape[1]) if np.isnan(X[:, i]).any()]\n",
    "\n",
    "# replace NaN with 0\n",
    "X[:, nan_cols] = np.nan_to_num(X[:, nan_cols])\n"
   ]
  },
  {
   "cell_type": "markdown",
   "metadata": {},
   "source": [
    "## Splitting , scaling and shuffling"
   ]
  },
  {
   "cell_type": "code",
   "execution_count": 9,
   "metadata": {},
   "outputs": [],
   "source": [
    "# Splitting the dataset into the Training set and Test set\n",
    "X_train, X_test, y_train, y_test = \\\n",
    "    train_test_split(X, y, test_size = 0.2, random_state = 0)\n",
    "\n",
    "# Feature Scaling\n",
    "sc = StandardScaler()\n",
    "X_train = sc.fit_transform(X_train)\n",
    "X_test = sc.transform(X_test)\n",
    "\n",
    "\n",
    "# shuffle data\n",
    "X_train, y_train = shuffle(X_train, y_train, random_state=0)"
   ]
  },
  {
   "cell_type": "code",
   "execution_count": 10,
   "metadata": {},
   "outputs": [
    {
     "data": {
      "text/plain": [
       "array([0, 1], dtype=int8)"
      ]
     },
     "execution_count": 10,
     "metadata": {},
     "output_type": "execute_result"
    }
   ],
   "source": [
    "# find unique classes\n",
    "classes = np.unique(y_test)\n",
    "classes"
   ]
  },
  {
   "cell_type": "markdown",
   "metadata": {},
   "source": [
    "## Logistic Regression"
   ]
  },
  {
   "cell_type": "code",
   "execution_count": 11,
   "metadata": {},
   "outputs": [
    {
     "name": "stdout",
     "output_type": "stream",
     "text": [
      "[[50  1]\n",
      " [ 0 69]]\n"
     ]
    }
   ],
   "source": [
    "# Fitting Logistic Regression to the Training set \n",
    "classifier = LogisticRegression(random_state = 0)\n",
    "classifier.fit(X_train, y_train)\n",
    "\n",
    "# Predicting the Test set results\n",
    "y_pred = classifier.predict(X_test)\n",
    "\n",
    "# Making the Confusion Matrix\n",
    "cm = metrics.confusion_matrix(y_test, y_pred)\n",
    "print(cm)\n"
   ]
  },
  {
   "cell_type": "markdown",
   "metadata": {},
   "source": [
    "## Accuracy Score, Confusion Matrix, Classification Report & ROC curve"
   ]
  },
  {
   "cell_type": "code",
   "execution_count": 12,
   "metadata": {},
   "outputs": [
    {
     "name": "stdout",
     "output_type": "stream",
     "text": [
      "Accuracy: 0.9916666666666667\n",
      "Confusion matrix:\n",
      " [[50  1]\n",
      " [ 0 69]]\n",
      "Classification report:\n",
      "               precision    recall  f1-score   support\n",
      "\n",
      "           0       1.00      0.98      0.99        51\n",
      "           1       0.99      1.00      0.99        69\n",
      "\n",
      "    accuracy                           0.99       120\n",
      "   macro avg       0.99      0.99      0.99       120\n",
      "weighted avg       0.99      0.99      0.99       120\n",
      "\n"
     ]
    },
    {
     "data": {
      "image/png": "[encoded data removed]",
      "text/plain": [
       "<Figure size 640x480 with 1 Axes>"
      ]
     },
     "metadata": {},
     "output_type": "display_data"
    }
   ],
   "source": [
    "# accuracy\n",
    "print(\"Accuracy:\",metrics.accuracy_score(y_test, y_pred))\n",
    "\n",
    "# confusion matrix\n",
    "print(\"Confusion matrix:\\n\",metrics.confusion_matrix(y_test, y_pred))\n",
    "\n",
    "# classification report\n",
    "print(\"Classification report:\\n\",metrics.classification_report(y_test, y_pred))\n",
    "\n",
    "# ROC curve\n",
    "y_pred_proba = classifier.predict_proba(X_test)[::,1]\n",
    "fpr, tpr, _ = metrics.roc_curve(y_test,  y_pred_proba)\n",
    "auc = metrics.roc_auc_score(y_test, y_pred_proba)\n",
    "plt.plot(fpr,tpr,label=\"data 1, auc=\"+str(auc))\n",
    "plt.legend(loc=4)\n",
    "plt.show()"
   ]
  },
  {
   "cell_type": "code",
   "execution_count": 19,
   "metadata": {},
   "outputs": [
    {
     "name": "stdout",
     "output_type": "stream",
     "text": [
      "Accuracy: 0.998324958123953\n",
      "Confusion matrix:\n",
      " [[301   1]\n",
      " [  0 295]]\n"
     ]
    }
   ],
   "source": [
    "# total data accuracy score and confusion matrix\n",
    "X_scaling = sc.transform(X)\n",
    "y_pred = classifier.predict(X_scaling)\n",
    "print(\"Accuracy:\",metrics.accuracy_score(y, y_pred))\n",
    "print(\"Confusion matrix:\\n\",metrics.confusion_matrix(y, y_pred))"
   ]
  },
  {
   "cell_type": "markdown",
   "metadata": {},
   "source": [
    "## Save Logistic Regression model as pickle file"
   ]
  },
  {
   "cell_type": "code",
   "execution_count": null,
   "metadata": {},
   "outputs": [],
   "source": [
    "# save model weights\n",
    "import pickle\n",
    "pickle.dump(classifier, open('models/logistic_regression.sav', 'wb'))\n",
    "# load model weights\n",
    "# classifier = pickle.load(open('models/logistic_regression.sav', 'rb'))"
   ]
  },
  {
   "cell_type": "markdown",
   "metadata": {},
   "source": [
    "## Save Logistic Regression model coefficients, intercept and classes"
   ]
  },
  {
   "cell_type": "code",
   "execution_count": 26,
   "metadata": {},
   "outputs": [],
   "source": [
    "# save model weights\n",
    "coef = classifier.coef_\n",
    "intercept = classifier.intercept_\n",
    "classes = classifier.classes_\n",
    "np.save('models/logistic_regression_coef.npy', coef)\n",
    "np.save('models/logistic_regression_intercept.npy', intercept)\n",
    "np.save('models/logistic_regression_classes_.npy', classes)\n"
   ]
  },
  {
   "cell_type": "markdown",
   "metadata": {},
   "source": [
    "## Load Coefficients, intercept and classes"
   ]
  },
  {
   "cell_type": "code",
   "execution_count": 27,
   "metadata": {},
   "outputs": [],
   "source": [
    "# load model weights\n",
    "coef = np.load('models/logistic_regression_coef.npy')\n",
    "intercept = np.load('models/logistic_regression_intercept.npy')\n",
    "classes = np.load('models/logistic_regression_classes_.npy')\n",
    "classifier_load = LogisticRegression(C=1e5, penalty='l2', solver='liblinear')\n",
    "classifier_load.coef_ = coef\n",
    "classifier_load.intercept_ = intercept\n",
    "classifier_load.classes_ = classes"
   ]
  },
  {
   "cell_type": "markdown",
   "metadata": {},
   "source": [
    "## Test the load model"
   ]
  },
  {
   "cell_type": "code",
   "execution_count": 28,
   "metadata": {},
   "outputs": [
    {
     "name": "stdout",
     "output_type": "stream",
     "text": [
      "Accuracy: 0.9916666666666667\n"
     ]
    }
   ],
   "source": [
    "y_pred = classifier_load.predict(X_test)\n",
    "print(\"Accuracy:\",metrics.accuracy_score(y_test, y_pred))"
   ]
  },
  {
   "cell_type": "markdown",
   "metadata": {},
   "source": [
    "## Save scaler model"
   ]
  },
  {
   "cell_type": "code",
   "execution_count": 30,
   "metadata": {},
   "outputs": [],
   "source": [
    "# save scaler model\n",
    "import pickle\n",
    "pickle.dump(sc, open('models/logistic_regression_scaler.sav', 'wb'))"
   ]
  },
  {
   "cell_type": "code",
   "execution_count": null,
   "metadata": {},
   "outputs": [],
   "source": []
  }
 ],
 "metadata": {
  "kernelspec": {
   "display_name": "ML",
   "language": "python",
   "name": "python3"
  },
  "language_info": {
   "codemirror_mode": {
    "name": "ipython",
    "version": 3
   },
   "file_extension": ".py",
   "mimetype": "text/x-python",
   "name": "python",
   "nbconvert_exporter": "python",
   "pygments_lexer": "ipython3",
   "version": "3.10.12"
  },
  "orig_nbformat": 4
 },
 "nbformat": 4,
 "nbformat_minor": 2
}
